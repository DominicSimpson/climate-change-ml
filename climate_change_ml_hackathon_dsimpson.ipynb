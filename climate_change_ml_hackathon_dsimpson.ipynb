{
 "cells": [
  {
   "cell_type": "markdown",
   "metadata": {
    "application/vnd.databricks.v1+cell": {
     "cellMetadata": {
      "byteLimit": 2048000,
      "rowLimit": 10000
     },
     "inputWidgets": {},
     "nuid": "817bc187-225a-4355-a7d2-f274f83cfce5",
     "showTitle": false,
     "tableResultSettingsMap": {},
     "title": ""
    }
   },
   "source": [
    "# Climate Change Dataset - Dominic Simpson, La Fosse Data Hackathon\n"
   ]
  },
  {
   "cell_type": "markdown",
   "metadata": {
    "application/vnd.databricks.v1+cell": {
     "cellMetadata": {
      "byteLimit": 2048000,
      "rowLimit": 10000
     },
     "inputWidgets": {},
     "nuid": "39e9801d-394d-474b-a37f-54b0ab33c9c7",
     "showTitle": false,
     "tableResultSettingsMap": {},
     "title": ""
    }
   },
   "source": [
    "## Steps & Deliverables\n"
   ]
  },
  {
   "cell_type": "markdown",
   "metadata": {
    "application/vnd.databricks.v1+cell": {
     "cellMetadata": {
      "byteLimit": 2048000,
      "rowLimit": 10000
     },
     "inputWidgets": {},
     "nuid": "0ed54111-463f-42d5-a147-dd763ef51053",
     "showTitle": false,
     "tableResultSettingsMap": {},
     "title": ""
    }
   },
   "source": [
    "1. **Choose a Dataset**\n",
    "- Go to **Kaggle** and find a dataset you find interesting (small-to-medium size so you can work quickly – < 100MB recommended)\n",
    "- Make sure it has at least one numeric column you can predict with regression or one categorical column you can classify\n",
    "- Upload it to **Databricks**\n"
   ]
  },
  {
   "cell_type": "markdown",
   "metadata": {
    "application/vnd.databricks.v1+cell": {
     "cellMetadata": {
      "byteLimit": 2048000,
      "rowLimit": 10000
     },
     "inputWidgets": {},
     "nuid": "04beb7e4-7e1b-407a-9f5d-2e3a36d370da",
     "showTitle": false,
     "tableResultSettingsMap": {},
     "title": ""
    }
   },
   "source": [
    "2. **Ask Questions & Create Hypotheses**\n",
    "- Write 3–5 analysis questions you want to answer\n",
    "- Write 1–2 hypotheses you can test\n",
    "- Decide which column will be your target variable for Machine Learning"
   ]
  },
  {
   "cell_type": "markdown",
   "metadata": {
    "application/vnd.databricks.v1+cell": {
     "cellMetadata": {
      "byteLimit": 2048000,
      "rowLimit": 10000
     },
     "inputWidgets": {},
     "nuid": "815a6295-01c8-40f8-818d-c0d5fdbf50b9",
     "showTitle": false,
     "tableResultSettingsMap": {},
     "title": ""
    }
   },
   "source": [
    "##### Exposition:\n",
    "For this hackaton project, \"From Data to Insights to Predictions\", I have chosen the following dataset from Kaggle: https://www.kaggle.com/datasets/bhadramohit/climate-change-dataset/data"
   ]
  },
  {
   "cell_type": "markdown",
   "metadata": {
    "application/vnd.databricks.v1+cell": {
     "cellMetadata": {
      "byteLimit": 2048000,
      "rowLimit": 10000
     },
     "inputWidgets": {},
     "nuid": "21a48543-bb66-4015-8eca-5b9308394938",
     "showTitle": false,
     "tableResultSettingsMap": {},
     "title": ""
    }
   },
   "source": [
    "- Title: Climate Change Dataset - \"Dataset of Temperature, Emissions, and Environmental Trends (2000-2024)\"\n",
    "- File: climate_change_dataset.csv\n",
    "- File Size: 53.21kB - 90kB (depending on encoding)\n",
    "- Number of Rows: 1000\n",
    "- Number of Columns: 10\n"
   ]
  },
  {
   "cell_type": "markdown",
   "metadata": {
    "application/vnd.databricks.v1+cell": {
     "cellMetadata": {
      "byteLimit": 2048000,
      "rowLimit": 10000
     },
     "inputWidgets": {},
     "nuid": "ab3307fb-b68e-4d05-9242-1fa186e87ac2",
     "showTitle": false,
     "tableResultSettingsMap": {},
     "title": ""
    }
   },
   "source": [
    "Analysis Questions:\n",
    "1. Does the data show that every country in the world has seen rising temperatures overall in the last 25 years (approx)?\n",
    "2. How do parts of the world compare with statistics on extreme weather?\n",
    "3. Is there a correlation between higher populations in countries and corresponding temperature rises?\n",
    "4. Is there a relationship between CO₂ emissions per capita and renewable energy usage?\n",
    "5. Has there been an inexorable increase in sea level rise throughout the world?\n"
   ]
  },
  {
   "cell_type": "markdown",
   "metadata": {
    "application/vnd.databricks.v1+cell": {
     "cellMetadata": {
      "byteLimit": 2048000,
      "rowLimit": 10000
     },
     "inputWidgets": {},
     "nuid": "3036f0d8-f7cd-4207-9782-6b5c61e59cfd",
     "showTitle": false,
     "tableResultSettingsMap": {},
     "title": ""
    }
   },
   "source": [
    "Hypotheses:\n",
    "1. Countries throughout the world have seen a general rise in temperatures overall.\n",
    "2. Countries with higher renewable energy usage (%) have lower CO₂ emissions per capita."
   ]
  },
  {
   "cell_type": "markdown",
   "metadata": {
    "application/vnd.databricks.v1+cell": {
     "cellMetadata": {
      "byteLimit": 2048000,
      "rowLimit": 10000
     },
     "inputWidgets": {},
     "nuid": "26a2bc2d-aa43-4bf1-b086-6855ba636269",
     "showTitle": false,
     "tableResultSettingsMap": {},
     "title": ""
    }
   },
   "source": [
    "Decide which column will be your target variable for Machine Learning\n",
    "\n",
    "- Avg Temperature (Â°C) [_column name will be modified_]"
   ]
  },
  {
   "cell_type": "code",
   "execution_count": 0,
   "metadata": {
    "application/vnd.databricks.v1+cell": {
     "cellMetadata": {
      "byteLimit": 2048000,
      "rowLimit": 10000
     },
     "inputWidgets": {},
     "nuid": "23772bef-10f0-4d5a-b747-ddc7cef0be72",
     "showTitle": false,
     "tableResultSettingsMap": {},
     "title": ""
    }
   },
   "outputs": [],
   "source": [
    "# Testing testing\n",
    "print(\"Hello World!\")"
   ]
  }
 ],
 "metadata": {
  "application/vnd.databricks.v1+notebook": {
   "computePreferences": null,
   "dashboards": [],
   "environmentMetadata": {
    "base_environment": "",
    "environment_version": "2"
   },
   "inputWidgetPreferences": null,
   "language": "python",
   "notebookMetadata": {
    "pythonIndentUnit": 4
   },
   "notebookName": "climate_change_ml_hackathon_dsimpson",
   "widgets": {}
  },
  "language_info": {
   "name": "python"
  }
 },
 "nbformat": 4,
 "nbformat_minor": 0
}
