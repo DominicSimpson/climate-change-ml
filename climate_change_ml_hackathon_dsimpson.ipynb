{
 "cells": [
  {
   "cell_type": "markdown",
   "metadata": {
    "application/vnd.databricks.v1+cell": {
     "cellMetadata": {
      "byteLimit": 2048000,
      "rowLimit": 10000
     },
     "inputWidgets": {},
     "nuid": "817bc187-225a-4355-a7d2-f274f83cfce5",
     "showTitle": false,
     "tableResultSettingsMap": {},
     "title": ""
    }
   },
   "source": [
    "# Climate Change Dataset - Dominic Simpson, La Fosse Data Hackathon\n"
   ]
  },
  {
   "cell_type": "markdown",
   "metadata": {
    "application/vnd.databricks.v1+cell": {
     "cellMetadata": {
      "byteLimit": 2048000,
      "rowLimit": 10000
     },
     "inputWidgets": {},
     "nuid": "39e9801d-394d-474b-a37f-54b0ab33c9c7",
     "showTitle": false,
     "tableResultSettingsMap": {},
     "title": ""
    }
   },
   "source": [
    "## Steps & Deliverables\n"
   ]
  },
  {
   "cell_type": "markdown",
   "metadata": {
    "application/vnd.databricks.v1+cell": {
     "cellMetadata": {
      "byteLimit": 2048000,
      "rowLimit": 10000
     },
     "inputWidgets": {},
     "nuid": "0ed54111-463f-42d5-a147-dd763ef51053",
     "showTitle": false,
     "tableResultSettingsMap": {},
     "title": ""
    }
   },
   "source": [
    "1. **Choose a Dataset**\n",
    "- Go to **Kaggle** and find a dataset you find interesting (small-to-medium size so you can work quickly – < 100MB recommended)\n",
    "- Make sure it has at least one numeric column you can predict with regression or one categorical column you can classify\n",
    "- Upload it to **Databricks**\n"
   ]
  },
  {
   "cell_type": "markdown",
   "metadata": {
    "application/vnd.databricks.v1+cell": {
     "cellMetadata": {
      "byteLimit": 2048000,
      "rowLimit": 10000
     },
     "inputWidgets": {},
     "nuid": "04beb7e4-7e1b-407a-9f5d-2e3a36d370da",
     "showTitle": false,
     "tableResultSettingsMap": {},
     "title": ""
    }
   },
   "source": [
    "2. **Ask Questions & Create Hypotheses**\n",
    "- Write 3–5 analysis questions you want to answer\n",
    "- Write 1–2 hypotheses you can test\n",
    "- Decide which column will be your target variable for Machine Learning"
   ]
  },
  {
   "cell_type": "markdown",
   "metadata": {
    "application/vnd.databricks.v1+cell": {
     "cellMetadata": {
      "byteLimit": 2048000,
      "rowLimit": 10000
     },
     "inputWidgets": {},
     "nuid": "815a6295-01c8-40f8-818d-c0d5fdbf50b9",
     "showTitle": false,
     "tableResultSettingsMap": {},
     "title": ""
    }
   },
   "source": [
    "##### Exposition:\n",
    "For this hackaton project, \"From Data to Insights to Predictions\", I have chosen the following dataset from Kaggle: https://www.kaggle.com/datasets/bhadramohit/climate-change-dataset/data"
   ]
  },
  {
   "cell_type": "markdown",
   "metadata": {
    "application/vnd.databricks.v1+cell": {
     "cellMetadata": {
      "byteLimit": 2048000,
      "rowLimit": 10000
     },
     "inputWidgets": {},
     "nuid": "21a48543-bb66-4015-8eca-5b9308394938",
     "showTitle": false,
     "tableResultSettingsMap": {},
     "title": ""
    }
   },
   "source": [
    "- Title: Climate Change Dataset - \"Dataset of Temperature, Emissions, and Environmental Trends (2000-2024)\"\n",
    "- File: climate_change_dataset.csv\n",
    "- File Size: 53.21kB - 90kB (depending on encoding)\n",
    "- Number of Rows: 1000\n",
    "- Number of Columns: 10\n"
   ]
  },
  {
   "cell_type": "markdown",
   "metadata": {
    "application/vnd.databricks.v1+cell": {
     "cellMetadata": {
      "byteLimit": 2048000,
      "rowLimit": 10000
     },
     "inputWidgets": {},
     "nuid": "ab3307fb-b68e-4d05-9242-1fa186e87ac2",
     "showTitle": false,
     "tableResultSettingsMap": {},
     "title": ""
    }
   },
   "source": [
    "Analysis Questions:\n",
    "- Does the data show that the combined average temperatures of the thirteen countries in the data has risen overall throughout the last 25 years (approx)?\n",
    "- Can rising global temperatures be correlated with rising CO₂ emissions per capita?\n",
    "- Has there been an inexorable increase in sea level rise throughout the world?\n",
    "- Has there been an increase in extreme weather over the 25 year period?\n",
    "- Can relationships be established between a countries' renewal energy program and forest area (both %), on the other, and average temperature, sea level rise, and extreme weather events on the other?\n"
   ]
  },
  {
   "cell_type": "markdown",
   "metadata": {
    "application/vnd.databricks.v1+cell": {
     "cellMetadata": {
      "byteLimit": 2048000,
      "rowLimit": 10000
     },
     "inputWidgets": {},
     "nuid": "3036f0d8-f7cd-4207-9782-6b5c61e59cfd",
     "showTitle": false,
     "tableResultSettingsMap": {},
     "title": ""
    }
   },
   "source": [
    "Hypotheses:\n",
    "1. Countries throughout the world have seen a general rise in temperatures overall.\n",
    "2. Rising global temperatures can be correlated with the trend for increasing CO₂ emissions per capita - despite attempts to bring down CO₂ levels."
   ]
  },
  {
   "cell_type": "markdown",
   "metadata": {
    "application/vnd.databricks.v1+cell": {
     "cellMetadata": {
      "byteLimit": 2048000,
      "rowLimit": 10000
     },
     "inputWidgets": {},
     "nuid": "26a2bc2d-aa43-4bf1-b086-6855ba636269",
     "showTitle": false,
     "tableResultSettingsMap": {},
     "title": ""
    }
   },
   "source": [
    "Decide which column will be your target variable for Machine Learning\n",
    "\n",
    "- Avg Temperature (Â°C) [_column name will be modified_]"
   ]
  },
  {
   "cell_type": "code",
   "execution_count": 0,
   "metadata": {
    "application/vnd.databricks.v1+cell": {
     "cellMetadata": {
      "byteLimit": 2048000,
      "rowLimit": 10000
     },
     "inputWidgets": {},
     "nuid": "23772bef-10f0-4d5a-b747-ddc7cef0be72",
     "showTitle": false,
     "tableResultSettingsMap": {},
     "title": ""
    }
   },
   "outputs": [],
   "source": [
    "# Testing testing\n",
    "print(\"Hello World!\")"
   ]
  },
  {
   "cell_type": "code",
   "execution_count": 0,
   "metadata": {
    "application/vnd.databricks.v1+cell": {
     "cellMetadata": {
      "byteLimit": 2048000,
      "rowLimit": 10000
     },
     "inputWidgets": {},
     "nuid": "bb281243-08e2-4c1b-a543-7e797406364a",
     "showTitle": false,
     "tableResultSettingsMap": {},
     "title": ""
    }
   },
   "outputs": [],
   "source": [
    "import pandas as pd\n",
    "import matplotlib.pyplot as plt\n",
    "import seaborn as sns\n",
    "import numpy as np"
   ]
  },
  {
   "cell_type": "markdown",
   "metadata": {
    "application/vnd.databricks.v1+cell": {
     "cellMetadata": {
      "byteLimit": 2048000,
      "rowLimit": 10000
     },
     "inputWidgets": {},
     "nuid": "12c8c0e0-3943-499d-859e-af15d42d5f5e",
     "showTitle": false,
     "tableResultSettingsMap": {},
     "title": ""
    }
   },
   "source": [
    "3. **Data Cleaning & Transformation**\n"
   ]
  },
  {
   "cell_type": "markdown",
   "metadata": {
    "application/vnd.databricks.v1+cell": {
     "cellMetadata": {
      "byteLimit": 2048000,
      "rowLimit": 10000
     },
     "inputWidgets": {},
     "nuid": "1f268db2-9cea-4d2a-ade7-005351f4c9e3",
     "showTitle": false,
     "tableResultSettingsMap": {},
     "title": ""
    }
   },
   "source": [
    "- Load your dataset in a `Jupyter Notebook` inside Databricks\n",
    "- Handle missing values, duplicates, and incorrect data types\n",
    "- Create new columns if needed\n",
    "- Filter, group, and sort data to prepare it for analysis"
   ]
  },
  {
   "cell_type": "code",
   "execution_count": 0,
   "metadata": {
    "application/vnd.databricks.v1+cell": {
     "cellMetadata": {
      "byteLimit": 2048000,
      "rowLimit": 10000
     },
     "inputWidgets": {},
     "nuid": "e620afd9-e0c1-45fe-b653-46e407e4daa2",
     "showTitle": false,
     "tableResultSettingsMap": {},
     "title": ""
    }
   },
   "outputs": [],
   "source": [
    "df = pd.read_csv(\"data/climate_change_dataset.csv\")\n",
    "df.head()"
   ]
  },
  {
   "cell_type": "code",
   "execution_count": 0,
   "metadata": {
    "application/vnd.databricks.v1+cell": {
     "cellMetadata": {
      "byteLimit": 2048000,
      "rowLimit": 10000
     },
     "inputWidgets": {},
     "nuid": "b01dc97b-834f-4777-a115-afb47a2ec8c9",
     "showTitle": false,
     "tableResultSettingsMap": {},
     "title": ""
    }
   },
   "outputs": [],
   "source": [
    "df.tail()"
   ]
  },
  {
   "cell_type": "code",
   "execution_count": 0,
   "metadata": {
    "application/vnd.databricks.v1+cell": {
     "cellMetadata": {
      "byteLimit": 2048000,
      "rowLimit": 10000
     },
     "inputWidgets": {},
     "nuid": "6495dd6b-20bf-40ba-8b0f-29803fa11472",
     "showTitle": false,
     "tableResultSettingsMap": {},
     "title": ""
    }
   },
   "outputs": [],
   "source": [
    "df.describe(include='all')\n"
   ]
  },
  {
   "cell_type": "code",
   "execution_count": 0,
   "metadata": {
    "application/vnd.databricks.v1+cell": {
     "cellMetadata": {
      "byteLimit": 2048000,
      "rowLimit": 10000
     },
     "inputWidgets": {},
     "nuid": "88bd4882-fddd-47ec-98d8-fc946f9c177e",
     "showTitle": false,
     "tableResultSettingsMap": {},
     "title": ""
    }
   },
   "outputs": [],
   "source": [
    "df.info()"
   ]
  },
  {
   "cell_type": "code",
   "execution_count": 0,
   "metadata": {
    "application/vnd.databricks.v1+cell": {
     "cellMetadata": {
      "byteLimit": 2048000,
      "rowLimit": 10000
     },
     "inputWidgets": {},
     "nuid": "c6994ed3-3d55-45c5-aed6-bf4316dd696a",
     "showTitle": false,
     "tableResultSettingsMap": {},
     "title": ""
    }
   },
   "outputs": [],
   "source": [
    "df.shape"
   ]
  },
  {
   "cell_type": "code",
   "execution_count": 0,
   "metadata": {
    "application/vnd.databricks.v1+cell": {
     "cellMetadata": {
      "byteLimit": 2048000,
      "rowLimit": 10000
     },
     "inputWidgets": {},
     "nuid": "b13a1191-f088-467a-9d8a-e1d0408a535d",
     "showTitle": false,
     "tableResultSettingsMap": {},
     "title": ""
    }
   },
   "outputs": [],
   "source": [
    "# no missing values\n",
    "missing_values = df.isnull().sum()\n",
    "print(missing_values[missing_values > 0])"
   ]
  },
  {
   "cell_type": "code",
   "execution_count": 0,
   "metadata": {
    "application/vnd.databricks.v1+cell": {
     "cellMetadata": {
      "byteLimit": 2048000,
      "rowLimit": 10000
     },
     "inputWidgets": {},
     "nuid": "12b76eeb-8ffe-4078-9f1e-91ec294828a3",
     "showTitle": false,
     "tableResultSettingsMap": {},
     "title": ""
    }
   },
   "outputs": [],
   "source": [
    "# no duplicate values\n",
    "duplicated_values = df.duplicated().sum()\n",
    "print(duplicated_values > 0)"
   ]
  },
  {
   "cell_type": "markdown",
   "metadata": {
    "application/vnd.databricks.v1+cell": {
     "cellMetadata": {
      "byteLimit": 2048000,
      "rowLimit": 10000
     },
     "inputWidgets": {},
     "nuid": "a77f6f92-810f-4b9c-bb7e-469cbccd2b51",
     "showTitle": false,
     "tableResultSettingsMap": {},
     "title": ""
    }
   },
   "source": [
    "Formatting columns"
   ]
  },
  {
   "cell_type": "code",
   "execution_count": 0,
   "metadata": {
    "application/vnd.databricks.v1+cell": {
     "cellMetadata": {
      "byteLimit": 2048000,
      "rowLimit": 10000
     },
     "inputWidgets": {},
     "nuid": "6d0d476b-88fb-43ae-85e5-77ec9846f6fb",
     "showTitle": false,
     "tableResultSettingsMap": {},
     "title": ""
    }
   },
   "outputs": [],
   "source": [
    "# Ensure that float data in dataset is formatted to \n",
    "# two decimal places, to preserve precision from original calculations\n",
    "# (in climate change studies, small differences can be meaningful when looking at long-term trends)\n",
    "pd.options.display.float_format = '{:.2f}'.format"
   ]
  },
  {
   "cell_type": "code",
   "execution_count": 0,
   "metadata": {
    "application/vnd.databricks.v1+cell": {
     "cellMetadata": {
      "byteLimit": 2048000,
      "rowLimit": 10000
     },
     "inputWidgets": {},
     "nuid": "8ea22d3d-d4a7-450c-8aa6-a0f03de4408c",
     "showTitle": false,
     "tableResultSettingsMap": {},
     "title": ""
    }
   },
   "outputs": [],
   "source": [
    "# `Year` has already been formatted correctly as int64\n",
    "# `Country` has already been formatted correctly as object\n",
    "# `Avg Temperature (°C)` has already been formatted correctly as float64, with two decimal places\n",
    "# added from command above replacing original only one decimal place\n",
    "df['Avg Temperature (°C)'].head(10)\n",
    "\n"
   ]
  },
  {
   "cell_type": "code",
   "execution_count": 0,
   "metadata": {
    "application/vnd.databricks.v1+cell": {
     "cellMetadata": {
      "byteLimit": 2048000,
      "rowLimit": 10000
     },
     "inputWidgets": {},
     "nuid": "e8305f40-ff6f-4fa1-b72c-056d178c22b4",
     "showTitle": false,
     "tableResultSettingsMap": {},
     "title": ""
    }
   },
   "outputs": [],
   "source": [
    "# `Sea Level Rise (mm)` has already been formatted correctly as float64, with two decimal places\n",
    "# added from command above replacing original only one decimal place\n",
    "df['Sea Level Rise (mm)'].head(10)\n"
   ]
  },
  {
   "cell_type": "code",
   "execution_count": 0,
   "metadata": {
    "application/vnd.databricks.v1+cell": {
     "cellMetadata": {
      "byteLimit": 2048000,
      "rowLimit": 10000
     },
     "inputWidgets": {},
     "nuid": "ead1e58f-d305-4ff5-be46-8a46b3c6553b",
     "showTitle": false,
     "tableResultSettingsMap": {},
     "title": ""
    }
   },
   "outputs": [],
   "source": [
    "# There is no decimal places in original data in column, so I have left this as int64\n",
    "df['Rainfall (mm)'].head(10)\n"
   ]
  },
  {
   "cell_type": "code",
   "execution_count": 0,
   "metadata": {
    "application/vnd.databricks.v1+cell": {
     "cellMetadata": {
      "byteLimit": 2048000,
      "rowLimit": 10000
     },
     "inputWidgets": {},
     "nuid": "6f56de1b-bc0b-4157-9a94-d3173fc132c2",
     "showTitle": false,
     "tableResultSettingsMap": {},
     "title": ""
    }
   },
   "outputs": [],
   "source": [
    "# population data contains errors and is not required for this project\n",
    "df.drop('Population', axis=1, inplace=True, errors='ignore')\n"
   ]
  },
  {
   "cell_type": "code",
   "execution_count": 0,
   "metadata": {
    "application/vnd.databricks.v1+cell": {
     "cellMetadata": {
      "byteLimit": 2048000,
      "rowLimit": 10000
     },
     "inputWidgets": {},
     "nuid": "f2292221-ed3c-4b74-a40a-563cb5bff8ff",
     "showTitle": false,
     "tableResultSettingsMap": {},
     "title": ""
    }
   },
   "outputs": [],
   "source": [
    "# There is no decimal places in original data in column, so I have left this as int64\n",
    "df['Extreme Weather Events'].head(10)\n"
   ]
  },
  {
   "cell_type": "code",
   "execution_count": 0,
   "metadata": {
    "application/vnd.databricks.v1+cell": {
     "cellMetadata": {
      "byteLimit": 2048000,
      "rowLimit": 10000
     },
     "inputWidgets": {},
     "nuid": "95496702-f097-4edc-90f9-7370da476172",
     "showTitle": false,
     "tableResultSettingsMap": {},
     "title": ""
    }
   },
   "outputs": [],
   "source": [
    "# `Forest Area (%)` has already been formatted correctly as float64, with two decimal places\n",
    "# added from command above replacing original only one decimal place\n",
    "df['Forest Area (%)'].head(10)"
   ]
  },
  {
   "cell_type": "code",
   "execution_count": 0,
   "metadata": {
    "application/vnd.databricks.v1+cell": {
     "cellMetadata": {
      "byteLimit": 2048000,
      "rowLimit": 10000
     },
     "inputWidgets": {},
     "nuid": "8f8529df-0cf6-407c-8169-b3044030a121",
     "showTitle": false,
     "tableResultSettingsMap": {},
     "title": ""
    }
   },
   "outputs": [],
   "source": [
    "# Column names\n",
    "# Standardized them to lowercase and with underscores, as well as removing \n",
    "# units like (°C), etc., as well as measurements such as 'm' via regex\n",
    "# These technical terms will still appear in data visualization and ML models\n",
    "df.columns = (\n",
    "    df.columns\n",
    "        .str.strip() # remove leading/trailing spaces\n",
    "        .str.lower() # convert to lowercase\n",
    "        .str.replace(r'\\s+', '_', regex=True) # adds underscores in spaces between column name words\n",
    "        .str.replace(r'\\(°c\\)', '', regex=True) # gets rid of °c\n",
    "        .str.replace(r'\\(%\\)', '', regex=True) # gets rid of %\n",
    "        .str.replace(r'\\(mm\\)', '', regex=True) # gets rid of 'mm'\n",
    "        .str.replace(r'\\((tons/capita)\\)', '', regex=True) # gets rid of 'tons/capita'\n",
    "        .str.replace(r'_+$', '', regex=True) # delete training underscores at end of column name\n",
    ")\n"
   ]
  },
  {
   "cell_type": "code",
   "execution_count": 0,
   "metadata": {
    "application/vnd.databricks.v1+cell": {
     "cellMetadata": {
      "byteLimit": 2048000,
      "rowLimit": 10000
     },
     "inputWidgets": {},
     "nuid": "194cb386-3824-4ecd-919f-f57dcfe945cd",
     "showTitle": false,
     "tableResultSettingsMap": {},
     "title": ""
    }
   },
   "outputs": [],
   "source": [
    "df.info()"
   ]
  },
  {
   "cell_type": "code",
   "execution_count": 0,
   "metadata": {
    "application/vnd.databricks.v1+cell": {
     "cellMetadata": {
      "byteLimit": 2048000,
      "rowLimit": 10000
     },
     "inputWidgets": {},
     "nuid": "344b7bf5-fbc0-45fa-8f76-5ca74dc22d6d",
     "showTitle": false,
     "tableResultSettingsMap": {},
     "title": ""
    }
   },
   "outputs": [],
   "source": [
    "#Reorder data by year (earliest first) and country (alphabetical)\n",
    "df_sorted = df.sort_values(['year', 'country'])\n",
    "df_sorted.head(10)\n"
   ]
  },
  {
   "cell_type": "code",
   "execution_count": 0,
   "metadata": {
    "application/vnd.databricks.v1+cell": {
     "cellMetadata": {
      "byteLimit": 2048000,
      "rowLimit": 10000
     },
     "inputWidgets": {},
     "nuid": "faf612cf-21bb-42a7-8141-b80eb524dfb3",
     "showTitle": false,
     "tableResultSettingsMap": {},
     "title": ""
    }
   },
   "outputs": [],
   "source": [
    "df_sorted.to_csv('data/cleaned_climate_change_data.csv', index=False)\n"
   ]
  },
  {
   "cell_type": "code",
   "execution_count": 0,
   "metadata": {
    "application/vnd.databricks.v1+cell": {
     "cellMetadata": {
      "byteLimit": 2048000,
      "rowLimit": 10000
     },
     "inputWidgets": {},
     "nuid": "1fc6a68d-9db2-4188-ab1f-f983907e503e",
     "showTitle": false,
     "tableResultSettingsMap": {},
     "title": ""
    }
   },
   "outputs": [],
   "source": [
    "df1 = pd.read_csv('data/cleaned_climate_change_data.csv')\n",
    "df1.head()"
   ]
  },
  {
   "cell_type": "code",
   "execution_count": 0,
   "metadata": {
    "application/vnd.databricks.v1+cell": {
     "cellMetadata": {
      "byteLimit": 2048000,
      "rowLimit": 10000
     },
     "inputWidgets": {},
     "nuid": "91a58f73-057f-4cb2-9832-14461310dcd4",
     "showTitle": false,
     "tableResultSettingsMap": {},
     "title": ""
    }
   },
   "outputs": [],
   "source": [
    "df1['year'].unique()"
   ]
  },
  {
   "cell_type": "markdown",
   "metadata": {
    "application/vnd.databricks.v1+cell": {
     "cellMetadata": {
      "byteLimit": 2048000,
      "rowLimit": 10000
     },
     "inputWidgets": {},
     "nuid": "03052e15-b4f8-40c5-b899-80fc3d85a601",
     "showTitle": false,
     "tableResultSettingsMap": {},
     "title": ""
    }
   },
   "source": [
    "4. **Data Visualization**\n"
   ]
  },
  {
   "cell_type": "markdown",
   "metadata": {
    "application/vnd.databricks.v1+cell": {
     "cellMetadata": {
      "byteLimit": 2048000,
      "rowLimit": 10000
     },
     "inputWidgets": {},
     "nuid": "93d8b865-2b5e-4486-a58e-f2dc204c0cab",
     "showTitle": false,
     "tableResultSettingsMap": {},
     "title": ""
    }
   },
   "source": [
    "- Use Matplotlib (and optionally Seaborn) to create at least 5 meaningful plots that help answer your questions\n",
    "- Each plot should have a clear title, axis labels, and legends if needed"
   ]
  },
  {
   "cell_type": "code",
   "execution_count": 0,
   "metadata": {
    "application/vnd.databricks.v1+cell": {
     "cellMetadata": {
      "byteLimit": 2048000,
      "rowLimit": 10000
     },
     "inputWidgets": {},
     "nuid": "243b415e-8a6a-4303-aa14-073287c05693",
     "showTitle": false,
     "tableResultSettingsMap": {},
     "title": ""
    }
   },
   "outputs": [],
   "source": [
    "# Does the data show that the combined average temperatures of the thirteen countries in the data has risen overall throughout the last 25 years (approx)?\n",
    "\n",
    "# Lineplot of Average Temperature Rise of Selected Countries (2000 -20024)\n",
    "\n",
    "# Save combined countries' average temperatures for each year\n",
    "yearly_avgtemp_df = (\n",
    "    df1.groupby('year', as_index=False)['avg_temperature']\n",
    "       .mean()\n",
    ")\n",
    "\n",
    "plt.figure(figsize=(12, 6))\n",
    "sns.lineplot(data=yearly_avgtemp_df,\n",
    "            x='year',\n",
    "            y='avg_temperature',\n",
    "            marker='o')\n",
    "\n",
    "plt.title('Average Temperature Rise of Selected Countries (2000-2024)')\n",
    "plt.xlabel('Year')\n",
    "plt.ylabel('Average Temperature (°C)')\n",
    "\n",
    "plt.show()"
   ]
  },
  {
   "cell_type": "code",
   "execution_count": 0,
   "metadata": {
    "application/vnd.databricks.v1+cell": {
     "cellMetadata": {
      "byteLimit": 2048000,
      "rowLimit": 10000
     },
     "inputWidgets": {},
     "nuid": "f0da73a4-3359-4c07-a33c-2c47c6ccaa1f",
     "showTitle": false,
     "tableResultSettingsMap": {},
     "title": ""
    }
   },
   "outputs": [],
   "source": [
    "# Can rising global temperatures be correlated with rising CO₂ emissions per capita?\n",
    "\n",
    "#lineplot with legend to show two variables\n",
    "\n",
    "plt.figure(figsize=(12, 6))\n",
    "\n",
    "#average temperature rises\n",
    "sns.lineplot(\n",
    "            x='year',\n",
    "            y='avg_temperature',\n",
    "            data=df1,\n",
    "            label='Average Temperature (°C)'\n",
    ")\n",
    "\n",
    "#average c02 emission rises\n",
    "sns.lineplot(\n",
    "            x='year',\n",
    "            y='co2_emissions',\n",
    "            data=df1,\n",
    "            label='CO2 Emissions (Tons/Capita)'\n",
    ")\n",
    "\n",
    "plt.title('Climate Change Trends in Sample Countries (2000-2024)')\n",
    "plt.xlabel('Year')\n",
    "plt.ylabel('Value')\n",
    "plt.legend()\n",
    "\n",
    "plt.show()\n",
    "\n"
   ]
  },
  {
   "cell_type": "code",
   "execution_count": 0,
   "metadata": {
    "application/vnd.databricks.v1+cell": {
     "cellMetadata": {
      "byteLimit": 2048000,
      "rowLimit": 10000
     },
     "inputWidgets": {},
     "nuid": "d2b815d0-611f-4e4c-821c-b945dda09172",
     "showTitle": false,
     "tableResultSettingsMap": {},
     "title": ""
    }
   },
   "outputs": [],
   "source": [
    "# Can rising global temperatures be correlated with rising CO₂ emissions per capita per country?\n",
    "# Scatterplot of Temperature vs CO₂ Emissions per Capita (2000–2024) by Country\n",
    "\n",
    "country_tempco2_avg = (\n",
    "    df1.groupby('country', as_index=False)[['avg_temperature', 'co2_emissions']].mean()\n",
    ")\n",
    "\n",
    "plt.figure(figsize=(12, 6))\n",
    "sns.scatterplot(data=country_tempco2_avg,\n",
    "                x='co2_emissions',\n",
    "                y='avg_temperature',\n",
    "                )\n",
    "\n",
    "for i, row in country_tempco2_avg.iterrows():\n",
    "    plt.text(row['co2_emissions'] + 0.1, \n",
    "             row['avg_temperature'],\n",
    "             row['country'],\n",
    "             fontsize=10\n",
    "            )\n",
    "\n",
    "plt.title('Temperature vs CO₂ Emissions per Capita (2000 - 2024) by Country')\n",
    "plt.xlabel('Average Temperature (°C)')\n",
    "plt.ylabel('CO₂ Emissions per Capita (Tons/Capita) by Country')\n",
    "plt.tight_layout()\n",
    "\n",
    "plt.show()\n",
    "\n"
   ]
  },
  {
   "cell_type": "code",
   "execution_count": 0,
   "metadata": {
    "application/vnd.databricks.v1+cell": {
     "cellMetadata": {
      "byteLimit": 2048000,
      "rowLimit": 10000
     },
     "inputWidgets": {},
     "nuid": "e76d63ff-17a7-4dbb-8eb7-91a96d242c6b",
     "showTitle": false,
     "tableResultSettingsMap": {},
     "title": ""
    }
   },
   "outputs": [],
   "source": [
    "# Regression plot showing slight rise in sea level\n",
    "yearly_sea_rise = (\n",
    "    df1.groupby('year', as_index=False)['sea_level_rise']\n",
    "       .mean()\n",
    ")\n",
    "\n",
    "plt.figure(figsize=(12, 6))\n",
    "\n",
    "sns.regplot(\n",
    "    data=yearly_sea_rise,\n",
    "    x='year',\n",
    "    y='sea_level_rise',\n",
    "    scatter_kws={'s': 60, 'alpha': 0.8, 'color': 'royalblue'},\n",
    "    line_kws={'linewidth': 2, 'color': 'darkred'},\n",
    "    ci=None\n",
    ")\n",
    "\n",
    "plt.title('Global Mean Sea Level Rise with Linear Trend')\n",
    "plt.xlabel('Year')\n",
    "plt.ylabel('Sea Level Rise (units)')\n",
    "plt.grid(True, axis='y', linestyle='--', alpha=0.6)\n",
    "plt.tight_layout()\n",
    "\n",
    "plt.show()\n"
   ]
  },
  {
   "cell_type": "code",
   "execution_count": 0,
   "metadata": {
    "application/vnd.databricks.v1+cell": {
     "cellMetadata": {
      "byteLimit": 2048000,
      "rowLimit": 10000
     },
     "inputWidgets": {},
     "nuid": "18c7690a-b0df-49d0-ac2c-e1d3d2593fdf",
     "showTitle": false,
     "tableResultSettingsMap": {},
     "title": ""
    }
   },
   "outputs": [],
   "source": [
    "# Has there been a mean increase in extreme weather over the 25 year period?\n",
    "# It's hard to tell from this bar plot.\n",
    "\n",
    "yearly_extreme_weather = (\n",
    "    df1.groupby('year', as_index=False)['extreme_weather_events']\n",
    "       .mean()\n",
    ")\n",
    "\n",
    "plt.figure(figsize=(12, 6))\n",
    "\n",
    "sns.barplot(\n",
    "    data=yearly_extreme_weather,\n",
    "    x='year',\n",
    "    y='extreme_weather_events',\n",
    "    color='royalblue'\n",
    ")\n",
    "\n",
    "plt.title('Extreme Weather Events by Year')\n",
    "plt.xlabel('Year')\n",
    "plt.ylabel('Number of Extreme Weather Events')\n",
    "plt.xticks(rotation=45)\n",
    "plt.tight_layout()\n",
    "\n",
    "plt.show()\n"
   ]
  },
  {
   "cell_type": "code",
   "execution_count": 0,
   "metadata": {
    "application/vnd.databricks.v1+cell": {
     "cellMetadata": {
      "byteLimit": 2048000,
      "rowLimit": 10000
     },
     "inputWidgets": {},
     "nuid": "d15b1a86-6f23-4117-88e5-7399b395c804",
     "showTitle": false,
     "tableResultSettingsMap": {},
     "title": ""
    }
   },
   "outputs": [],
   "source": [
    "# Has there been a mean increase in extreme weather over the 25 year period?\n",
    "# This graph is much clearer when showing a cumulative total. Extreme weather events \n",
    "# have increased over the last 25 years.\n",
    "\n",
    "yearly_extreme_weather_cumulative = df1.groupby('year', as_index=False)['extreme_weather_events'].mean()\n",
    "yearly_extreme_weather_cumulative = yearly_extreme_weather_cumulative.sort_values('year')\n",
    "yearly_extreme_weather_cumulative['cumulative'] = yearly_extreme_weather_cumulative['extreme_weather_events'].cumsum()['cumulative'] = yearly_extreme_weather_cumulative['extreme_weather_events'].cumsum()\n",
    "\n",
    "plt.figure(figsize=(12, 6))\n",
    "plt.fill_between(yearly_extreme_weather_cumulative['year'], yearly_extreme_weather_cumulative['cumulative'], alpha=0.3)\n",
    "plt.bar(yearly_extreme_weather_cumulative['year'], yearly_extreme_weather_cumulative['cumulative'], width=0.8, alpha=0.7)\n",
    "plt.title('Cumulative Extreme Weather Events of Selected Countries (2000 - 2024)')\n",
    "plt.xlabel('Year')\n",
    "plt.ylabel('Cumulative Events (frequency)')\n",
    "plt.xticks(rotation=45)\n",
    "plt.tight_layout()\n",
    "\n",
    "plt.show()"
   ]
  },
  {
   "cell_type": "code",
   "execution_count": 0,
   "metadata": {
    "application/vnd.databricks.v1+cell": {
     "cellMetadata": {
      "byteLimit": 2048000,
      "rowLimit": 10000
     },
     "inputWidgets": {},
     "nuid": "56ac0afc-b8dd-48cb-bb90-368778583a50",
     "showTitle": false,
     "tableResultSettingsMap": {},
     "title": ""
    }
   },
   "outputs": [],
   "source": [
    "# Can relationships be established between a countries' renewal energy program and forest area (both %), on the other, and average temperature, sea level rise, and extreme weather events on the other?\n",
    "# The data correlations are complex, as can be seen in this map, which shows that China has both the biggest renewable energy programme and forest areas, yet still faces a relatively high sea level rise.\n",
    "\n",
    "country_averages = df1.groupby('country', as_index=False).agg({\n",
    "    'renewable_energy': 'mean',\n",
    "    'forest_area': 'mean',\n",
    "    'avg_temperature': 'mean',\n",
    "    'sea_level_rise': 'mean',\n",
    "    'extreme_weather_events': 'mean'\n",
    "})\n",
    "\n",
    "# sort by renewal energy percentage\n",
    "country_averages = country_averages.sort_values('renewable_energy', ascending=False)\n",
    "# set country as index\n",
    "country_averages = country_averages.set_index('country')\n",
    "\n",
    "\n",
    "white_cols = ['renewable_energy', 'forest_area'] # these two columns should not show any impact colour\n",
    "impact_cols = ['avg_temperature', 'sea_level_rise', 'extreme_weather_events'] # impact colour columns\n",
    "cols_order = white_cols + impact_cols\n",
    "\n",
    "display_df = country_averages[cols_order].copy()  # shown as text in cells\n",
    "\n",
    "#colour matrix\n",
    "color_df = pd.DataFrame(0.0, index=display_df.index, columns=display_df.columns)\n",
    "\n",
    "for c in impact_cols:\n",
    "    col = display_df[c].astype(float)\n",
    "    rng = col.max() - col.min()\n",
    "    if rng == 0:\n",
    "        color_df[c] = 0.0\n",
    "    else:\n",
    "        color_df[c] = (col - col.min()) / rng\n",
    "\n",
    "fmt_df = pd.DataFrame(index=display_df.index, columns=display_df.columns, dtype=object)\n",
    "fmt_df['renewable_energy']      = display_df['renewable_energy'].map(lambda v: f\"{v:.2f}%\")\n",
    "fmt_df['forest_area']           = display_df['forest_area'].map(lambda v: f\"{v:.2f}%\")\n",
    "fmt_df['avg_temperature']       = display_df['avg_temperature'].map(lambda v: f\"{v:.2f}\")\n",
    "fmt_df['sea_level_rise']        = display_df['sea_level_rise'].map(lambda v: f\"{v:.2f}\")\n",
    "fmt_df['extreme_weather_events']= display_df['extreme_weather_events'].map(lambda v: f\"{int(round(v))}\")\n",
    "\n",
    "\n",
    "plt.figure(figsize=(12, 8))\n",
    "ax = sns.heatmap(\n",
    "    color_df,\n",
    "    cmap='Reds',\n",
    "    vmin=0,\n",
    "    vmax=1,\n",
    "    linewidths=.5,\n",
    "    linecolor='white',\n",
    "    cbar_kws={'label':'Higher = Darker Red'},\n",
    "    annot=fmt_df.values,\n",
    "    fmt='',\n",
    ")\n",
    "\n",
    "ax.set_title('Climate and Environmental Indicators (Averages 2000 - 2024), grouped by countries and renewable energy')\n",
    "ax.set_xlabel('')\n",
    "ax.set_ylabel('Country')\n",
    "\n",
    "plt.xticks(rotation=0)\n",
    "plt.tight_layout()\n",
    "\n",
    "plt.show()\n"
   ]
  },
  {
   "cell_type": "markdown",
   "metadata": {
    "application/vnd.databricks.v1+cell": {
     "cellMetadata": {
      "byteLimit": 2048000,
      "rowLimit": 10000
     },
     "inputWidgets": {},
     "nuid": "624fc51e-2b91-48e1-a50c-c8efa9303a8c",
     "showTitle": false,
     "tableResultSettingsMap": {},
     "title": ""
    }
   },
   "source": [
    "5. **Machine Learning Predictions**\n"
   ]
  },
  {
   "cell_type": "markdown",
   "metadata": {
    "application/vnd.databricks.v1+cell": {
     "cellMetadata": {
      "byteLimit": 2048000,
      "rowLimit": 10000
     },
     "inputWidgets": {},
     "nuid": "9a0b7f47-9dbf-4526-9c48-2678357c14e6",
     "showTitle": false,
     "tableResultSettingsMap": {},
     "title": ""
    }
   },
   "source": [
    "- Use `scikit-learn` to create a basic model:\n",
    "  - Regression (if predicting a number)\n",
    "  - Classification (if predicting a category)\n",
    "- Steps:\n",
    "  - Split data into train/test sets\n",
    "  - Choose a simple model\n",
    "  - Train and evaluate the model\n",
    "  - Show accuracy score, R², or other relevant metrics\n",
    "- Interpret the results"
   ]
  },
  {
   "cell_type": "code",
   "execution_count": 0,
   "metadata": {
    "application/vnd.databricks.v1+cell": {
     "cellMetadata": {
      "byteLimit": 2048000,
      "rowLimit": 10000
     },
     "inputWidgets": {},
     "nuid": "f90571a5-5c46-43e7-8262-5a7e80665041",
     "showTitle": false,
     "tableResultSettingsMap": {},
     "title": ""
    }
   },
   "outputs": [],
   "source": [
    "from sklearn.ensemble import RandomForestRegressor\n",
    "from sklearn.compose import ColumnTransformer\n",
    "from sklearn.pipeline import Pipeline # ensures that preprocessing happens during training and prediction\n",
    "from sklearn.preprocessing import OneHotEncoder # converts year and country into \n",
    "#separate binary columns so that the model can capture country-specific and year-specific climate patterns\n",
    "\n",
    "# y variable is average temperatures\n",
    "y = df1['avg_temperature']\n",
    "\n",
    "# X is other temperatures\n",
    "X = df1[['year', \n",
    "         'country', \n",
    "         'co2_emissions', \n",
    "         'sea_level_rise',\n",
    "         'rainfall',\n",
    "         'renewable_energy',\n",
    "         'extreme_weather_events',\n",
    "         'forest_area']]\n",
    "\n",
    "#categorical columns\n",
    "categorical_cols = ['year', 'country']\n",
    "#numeric columns\n",
    "numeric_cols = ['co2_emissions', \n",
    "                'sea_level_rise', \n",
    "                'rainfall', \n",
    "                'renewable_energy', \n",
    "                'extreme_weather_events', \n",
    "                'forest_area'\n",
    "                ]\n",
    "\n",
    "# Preprocessor for categorical columns\n",
    "preprocessor = ColumnTransformer(\n",
    "    transformers=[\n",
    "        ('cat', OneHotEncoder(handle_unknown='ignore'), categorical_cols),\n",
    "        ('num', 'passthrough', numeric_cols)\n",
    "    ]\n",
    ")\n",
    "\n",
    "# Create pipeline for preprocessing + model\n",
    "pipe = Pipeline([\n",
    "    ('preprocessor', preprocessor),\n",
    "    ('model', RandomForestRegressor(n_estimators=100, random_state=42))\n",
    "])\n",
    "\n",
    "model = pipe\n",
    "\n",
    "# Fit the pipeline\n",
    "model.fit(X, y)\n",
    "\n"
   ]
  },
  {
   "cell_type": "code",
   "execution_count": 0,
   "metadata": {
    "application/vnd.databricks.v1+cell": {
     "cellMetadata": {
      "byteLimit": 2048000,
      "rowLimit": 10000
     },
     "inputWidgets": {},
     "nuid": "1963e403-53df-42ed-b1ee-11f7c942a855",
     "showTitle": false,
     "tableResultSettingsMap": {},
     "title": ""
    }
   },
   "outputs": [],
   "source": [
    "# Predict\n",
    "predictions = model.predict(X)\n",
    "predictions\n"
   ]
  },
  {
   "cell_type": "code",
   "execution_count": 0,
   "metadata": {
    "application/vnd.databricks.v1+cell": {
     "cellMetadata": {
      "byteLimit": 2048000,
      "rowLimit": 10000
     },
     "inputWidgets": {},
     "nuid": "0805b624-3205-4151-ad74-68fed619a84c",
     "showTitle": false,
     "tableResultSettingsMap": {},
     "title": ""
    }
   },
   "outputs": [],
   "source": [
    "# Average predicted temperature per country\n",
    "df1['predicted_temp'] = predictions\n",
    "\n",
    "country_pred_temp = df1.groupby('country')['predicted_temp'].mean()\n",
    "print(country_pred_temp)"
   ]
  },
  {
   "cell_type": "code",
   "execution_count": 0,
   "metadata": {
    "application/vnd.databricks.v1+cell": {
     "cellMetadata": {
      "byteLimit": 2048000,
      "rowLimit": 10000
     },
     "inputWidgets": {},
     "nuid": "c057de07-7506-41ea-90c1-066ed9a01a20",
     "showTitle": false,
     "tableResultSettingsMap": {},
     "title": ""
    }
   },
   "outputs": [],
   "source": [
    "overall_mean = df1['predicted_temp'].mean()\n",
    "print(\"Overall mean predicted temp:\", overall_mean)"
   ]
  },
  {
   "cell_type": "code",
   "execution_count": 0,
   "metadata": {
    "application/vnd.databricks.v1+cell": {
     "cellMetadata": {
      "byteLimit": 2048000,
      "rowLimit": 10000
     },
     "inputWidgets": {},
     "nuid": "07937ef6-0bd4-4445-a131-bdd59829feac",
     "showTitle": false,
     "tableResultSettingsMap": {},
     "title": ""
    }
   },
   "outputs": [],
   "source": [
    "pred = model.predict(X)\n",
    "\n",
    "plt.scatter(pred, y, alpha=0.6)\n",
    "plt.title('Predicted vs Actual Average Temperatures (°C)')\n",
    "plt.xlabel('Predicted Average Temperatures')\n",
    "plt.ylabel('Actual Average Temperatures')"
   ]
  },
  {
   "cell_type": "code",
   "execution_count": 0,
   "metadata": {
    "application/vnd.databricks.v1+cell": {
     "cellMetadata": {
      "byteLimit": 2048000,
      "rowLimit": 10000
     },
     "inputWidgets": {},
     "nuid": "c605edd8-12e3-4d1b-90ca-97a4703e6ae1",
     "showTitle": false,
     "tableResultSettingsMap": {},
     "title": ""
    }
   },
   "outputs": [],
   "source": [
    "from sklearn.model_selection import GridSearchCV\n",
    "import time # speeds up DataBricks processing\n",
    "\n",
    "param_grid = {\n",
    "    'model__n_estimators': [100, 200, 300],\n",
    "    'model__max_depth': [None, 10, 20],\n",
    "    'model__min_samples_split': [2, 5, 10]\n",
    "}\n",
    "\n",
    "new_model = GridSearchCV(\n",
    "    estimator=model, #pipeline\n",
    "    param_grid = param_grid,\n",
    "    cv=3, \n",
    "    scoring='neg_mean_squared_error',\n",
    "    n_jobs=1,\n",
    "    verbose=2,\n",
    "    return_train_score=False\n",
    ")\n",
    "\n",
    "t0 = time.time()\n",
    "\n",
    "new_model.fit(X, y)\n",
    "\n",
    "print(f\"Elapsed: {time.time()-t0:.1f}s\")\n",
    "print(\"Best parameters:\", new_model.best_params_)\n",
    "print(\"Best score:\", new_model.best_score_)"
   ]
  },
  {
   "cell_type": "code",
   "execution_count": 0,
   "metadata": {
    "application/vnd.databricks.v1+cell": {
     "cellMetadata": {
      "byteLimit": 2048000,
      "rowLimit": 10000
     },
     "inputWidgets": {},
     "nuid": "871d84f3-d1ad-49e6-9356-79efcb644e18",
     "showTitle": false,
     "tableResultSettingsMap": {},
     "title": ""
    }
   },
   "outputs": [],
   "source": [
    "results_df = pd.DataFrame(new_model.cv_results_)\n",
    "\n",
    "#Orders best score by first\n",
    "results_df = results_df.sort_values(by='mean_test_score', ascending=False)\n",
    "\n",
    "results_df.head()\n"
   ]
  },
  {
   "cell_type": "code",
   "execution_count": 0,
   "metadata": {
    "application/vnd.databricks.v1+cell": {
     "cellMetadata": {
      "byteLimit": 2048000,
      "rowLimit": 10000
     },
     "inputWidgets": {},
     "nuid": "f8b02289-f4b7-4ee2-b253-2ff97aa94ff8",
     "showTitle": false,
     "tableResultSettingsMap": {},
     "title": ""
    }
   },
   "outputs": [],
   "source": [
    "print(\"Best parameters:\", new_model.best_params_)\n",
    "\n",
    "\n"
   ]
  },
  {
   "cell_type": "code",
   "execution_count": 0,
   "metadata": {
    "application/vnd.databricks.v1+cell": {
     "cellMetadata": {
      "byteLimit": 2048000,
      "rowLimit": 10000
     },
     "inputWidgets": {},
     "nuid": "e8cab27f-578c-4871-8e39-0947170c4c6f",
     "showTitle": false,
     "tableResultSettingsMap": {},
     "title": ""
    }
   },
   "outputs": [],
   "source": [
    "best_model = new_model.best_estimator_ # RandomForests equivalent to model__n_neighbors in KNN\n",
    "best_params = new_model.best_params_\n",
    "\n",
    "#Predicts with the best model\n",
    "new_y_pred = best_model.predict(X)\n",
    "\n",
    "plt.scatter(new_y_pred, y, color='seagreen')\n",
    "plt.xlabel('Predicted Average Temperatures')\n",
    "plt.ylabel('Actual Average Temperatures')\n",
    "plt.title(f'Predicted versus Actual Average Temperatures (n_estimators={best_params[\"model__n_estimators\"]}) (°C)')\n",
    "plt.grid(True)\n",
    "\n",
    "plt.show()"
   ]
  },
  {
   "cell_type": "code",
   "execution_count": 0,
   "metadata": {
    "application/vnd.databricks.v1+cell": {
     "cellMetadata": {
      "byteLimit": 2048000,
      "rowLimit": 10000
     },
     "inputWidgets": {},
     "nuid": "1cdca0c0-4be9-404c-bd78-f9c63b8cc141",
     "showTitle": false,
     "tableResultSettingsMap": {},
     "title": ""
    }
   },
   "outputs": [],
   "source": [
    "from sklearn.model_selection import train_test_split\n",
    "from sklearn.metrics import r2_score, mean_squared_error\n",
    "\n",
    "# split\n",
    "X_train, X_test, y_train, y_test = train_test_split(\n",
    "    X, y, test_size=0.2, random_state=42\n",
    ")\n",
    "\n",
    "# fit the grid search on train only\n",
    "new_model.fit(X_train, y_train)\n",
    "\n",
    "# inspect best params and grab best fitted pipeline\n",
    "print('Best parameters:', new_model.best_params_)\n",
    "best_model = new_model.best_estimator_\n",
    "\n",
    "# predict on the test set (unseen during training / tuning)\n",
    "y_test_pred = best_model.predict(X_test)\n",
    "\n",
    "# metrics\n",
    "r2 = r2_score(y_test, y_test_pred)\n",
    "rmse = mean_squared_error(y_test, y_test_pred, squared=False)\n",
    "print(f'R2: {r2:.2f}')\n",
    "print(f'RMSE: {rmse:.2f}')\n",
    "\n",
    "# plot\n",
    "plt.scatter(\n",
    "    y_test_pred,\n",
    "    y_test,\n",
    "    alpha=0.6,\n",
    "    color='seagreen'\n",
    ")\n",
    "\n",
    "mn = min(y_test.min(), y_test_pred.min())\n",
    "mx = max(y_test.max(), y_test_pred.max())\n",
    "plt.plot([mn, mx], [mn, mx], linestyle='--')\n",
    "\n",
    "plt.title(\n",
    "    f'Test Set: Predicted vs Actual Average Temperatures'\n",
    "    f'(n_estimators={new_model.best_params_[\"model__n_estimators\"]})'\n",
    ")\n",
    "plt.xlabel('Predicted Average Temperatures (°C)')\n",
    "plt.ylabel('Actual Average Temperatures (°C)')\n",
    "plt.grid(True)\n",
    "\n",
    "plt.show()"
   ]
  },
  {
   "cell_type": "code",
   "execution_count": 0,
   "metadata": {
    "application/vnd.databricks.v1+cell": {
     "cellMetadata": {
      "byteLimit": 2048000,
      "rowLimit": 10000
     },
     "inputWidgets": {},
     "nuid": "2628510a-7bd6-4a1d-b432-fcc2b36476c1",
     "showTitle": false,
     "tableResultSettingsMap": {},
     "title": ""
    }
   },
   "outputs": [],
   "source": [
    "from sklearn.metrics import mean_absolute_error, mean_squared_error, r2_score\n",
    "\n",
    "mae = mean_absolute_error(y_test, y_test_pred)\n",
    "mse = mean_squared_error(y_test, y_test_pred)\n",
    "rmse = mean_squared_error(y_test, y_test_pred, squared=False)\n",
    "r2 = r2_score(y_test, y_test_pred)\n",
    "\n",
    "print(f'MAE: {mae:.2f} °C')\n",
    "print(f'MSE: {mse:.2f} °C^2')\n",
    "print(f'RMSE: {rmse:.2f} °C')\n",
    "print(f'R2: {r2:.2f}')\n",
    "      "
   ]
  }
 ],
 "metadata": {
  "application/vnd.databricks.v1+notebook": {
   "computePreferences": null,
   "dashboards": [],
   "environmentMetadata": {
    "base_environment": "",
    "environment_version": "2"
   },
   "inputWidgetPreferences": null,
   "language": "python",
   "notebookMetadata": {
    "pythonIndentUnit": 4
   },
   "notebookName": "climate_change_ml_hackathon_dsimpson",
   "widgets": {}
  },
  "language_info": {
   "name": "python"
  }
 },
 "nbformat": 4,
 "nbformat_minor": 0
}
