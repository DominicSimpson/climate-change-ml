{
 "cells": [
  {
   "cell_type": "markdown",
   "metadata": {
    "application/vnd.databricks.v1+cell": {
     "cellMetadata": {
      "byteLimit": 2048000,
      "rowLimit": 10000
     },
     "inputWidgets": {},
     "nuid": "817bc187-225a-4355-a7d2-f274f83cfce5",
     "showTitle": false,
     "tableResultSettingsMap": {},
     "title": ""
    }
   },
   "source": [
    "# Climate Change Dataset - Dominic Simpson, La Fosse Data Hackathon\n"
   ]
  },
  {
   "cell_type": "markdown",
   "metadata": {
    "application/vnd.databricks.v1+cell": {
     "cellMetadata": {
      "byteLimit": 2048000,
      "rowLimit": 10000
     },
     "inputWidgets": {},
     "nuid": "39e9801d-394d-474b-a37f-54b0ab33c9c7",
     "showTitle": false,
     "tableResultSettingsMap": {},
     "title": ""
    }
   },
   "source": [
    "## Steps & Deliverables\n"
   ]
  },
  {
   "cell_type": "markdown",
   "metadata": {
    "application/vnd.databricks.v1+cell": {
     "cellMetadata": {
      "byteLimit": 2048000,
      "rowLimit": 10000
     },
     "inputWidgets": {},
     "nuid": "0ed54111-463f-42d5-a147-dd763ef51053",
     "showTitle": false,
     "tableResultSettingsMap": {},
     "title": ""
    }
   },
   "source": [
    "1. **Choose a Dataset**\n",
    "- Go to **Kaggle** and find a dataset you find interesting (small-to-medium size so you can work quickly – < 100MB recommended)\n",
    "- Make sure it has at least one numeric column you can predict with regression or one categorical column you can classify\n",
    "- Upload it to **Databricks**\n"
   ]
  },
  {
   "cell_type": "markdown",
   "metadata": {
    "application/vnd.databricks.v1+cell": {
     "cellMetadata": {
      "byteLimit": 2048000,
      "rowLimit": 10000
     },
     "inputWidgets": {},
     "nuid": "04beb7e4-7e1b-407a-9f5d-2e3a36d370da",
     "showTitle": false,
     "tableResultSettingsMap": {},
     "title": ""
    }
   },
   "source": [
    "2. **Ask Questions & Create Hypotheses**\n",
    "- Write 3–5 analysis questions you want to answer\n",
    "- Write 1–2 hypotheses you can test\n",
    "- Decide which column will be your target variable for Machine Learning"
   ]
  },
  {
   "cell_type": "markdown",
   "metadata": {
    "application/vnd.databricks.v1+cell": {
     "cellMetadata": {
      "byteLimit": 2048000,
      "rowLimit": 10000
     },
     "inputWidgets": {},
     "nuid": "815a6295-01c8-40f8-818d-c0d5fdbf50b9",
     "showTitle": false,
     "tableResultSettingsMap": {},
     "title": ""
    }
   },
   "source": [
    "##### Exposition:\n",
    "For this hackaton project, \"From Data to Insights to Predictions\", I have chosen the following dataset from Kaggle: https://www.kaggle.com/datasets/bhadramohit/climate-change-dataset/data"
   ]
  },
  {
   "cell_type": "markdown",
   "metadata": {
    "application/vnd.databricks.v1+cell": {
     "cellMetadata": {
      "byteLimit": 2048000,
      "rowLimit": 10000
     },
     "inputWidgets": {},
     "nuid": "21a48543-bb66-4015-8eca-5b9308394938",
     "showTitle": false,
     "tableResultSettingsMap": {},
     "title": ""
    }
   },
   "source": [
    "- Title: Climate Change Dataset - \"Dataset of Temperature, Emissions, and Environmental Trends (2000-2024)\"\n",
    "- File: climate_change_dataset.csv\n",
    "- File Size: 53.21kB - 90kB (depending on encoding)\n",
    "- Number of Rows: 1000\n",
    "- Number of Columns: 10\n"
   ]
  },
  {
   "cell_type": "markdown",
   "metadata": {
    "application/vnd.databricks.v1+cell": {
     "cellMetadata": {
      "byteLimit": 2048000,
      "rowLimit": 10000
     },
     "inputWidgets": {},
     "nuid": "ab3307fb-b68e-4d05-9242-1fa186e87ac2",
     "showTitle": false,
     "tableResultSettingsMap": {},
     "title": ""
    }
   },
   "source": [
    "Analysis Questions:\n",
    "1. Does the data show that the combined average temperatures of the thirteen countries in the data has risen overall throughout the last 25 years (approx)?\n",
    "2. If so, can rising global temperatures be correlated with rising CO₂ emissions per capita?\n",
    "3. Has there been an increase in extreme weather over the 25 year period?\n",
    "4. Is there a relationship between CO₂ emissions per capita and renewable energy usage?\n",
    "5. Has there been an inexorable increase in sea level rise throughout the world?\n"
   ]
  },
  {
   "cell_type": "markdown",
   "metadata": {
    "application/vnd.databricks.v1+cell": {
     "cellMetadata": {
      "byteLimit": 2048000,
      "rowLimit": 10000
     },
     "inputWidgets": {},
     "nuid": "3036f0d8-f7cd-4207-9782-6b5c61e59cfd",
     "showTitle": false,
     "tableResultSettingsMap": {},
     "title": ""
    }
   },
   "source": [
    "Hypotheses:\n",
    "1. Countries throughout the world have seen a general rise in temperatures overall.\n",
    "2. A country's rising tempeature can be correlated with their CO₂ emissions per capita."
   ]
  },
  {
   "cell_type": "markdown",
   "metadata": {
    "application/vnd.databricks.v1+cell": {
     "cellMetadata": {
      "byteLimit": 2048000,
      "rowLimit": 10000
     },
     "inputWidgets": {},
     "nuid": "26a2bc2d-aa43-4bf1-b086-6855ba636269",
     "showTitle": false,
     "tableResultSettingsMap": {},
     "title": ""
    }
   },
   "source": [
    "Decide which column will be your target variable for Machine Learning\n",
    "\n",
    "- Avg Temperature (Â°C) [_column name will be modified_]"
   ]
  },
  {
   "cell_type": "code",
   "execution_count": 0,
   "metadata": {
    "application/vnd.databricks.v1+cell": {
     "cellMetadata": {
      "byteLimit": 2048000,
      "rowLimit": 10000
     },
     "inputWidgets": {},
     "nuid": "23772bef-10f0-4d5a-b747-ddc7cef0be72",
     "showTitle": false,
     "tableResultSettingsMap": {},
     "title": ""
    }
   },
   "outputs": [],
   "source": [
    "# Testing testing\n",
    "print(\"Hello World!\")"
   ]
  },
  {
   "cell_type": "code",
   "execution_count": 0,
   "metadata": {
    "application/vnd.databricks.v1+cell": {
     "cellMetadata": {
      "byteLimit": 2048000,
      "rowLimit": 10000
     },
     "inputWidgets": {},
     "nuid": "bb281243-08e2-4c1b-a543-7e797406364a",
     "showTitle": false,
     "tableResultSettingsMap": {},
     "title": ""
    }
   },
   "outputs": [],
   "source": [
    "import pandas as pd\n",
    "import matplotlib.pyplot as plt\n",
    "import seaborn as sns\n",
    "import numpy as np"
   ]
  },
  {
   "cell_type": "markdown",
   "metadata": {
    "application/vnd.databricks.v1+cell": {
     "cellMetadata": {
      "byteLimit": 2048000,
      "rowLimit": 10000
     },
     "inputWidgets": {},
     "nuid": "12c8c0e0-3943-499d-859e-af15d42d5f5e",
     "showTitle": false,
     "tableResultSettingsMap": {},
     "title": ""
    }
   },
   "source": [
    "3. **Data Cleaning & Transformation**\n"
   ]
  },
  {
   "cell_type": "markdown",
   "metadata": {
    "application/vnd.databricks.v1+cell": {
     "cellMetadata": {
      "byteLimit": 2048000,
      "rowLimit": 10000
     },
     "inputWidgets": {},
     "nuid": "1f268db2-9cea-4d2a-ade7-005351f4c9e3",
     "showTitle": false,
     "tableResultSettingsMap": {},
     "title": ""
    }
   },
   "source": [
    "- Load your dataset in a `Jupyter Notebook` inside Databricks\n",
    "- Handle missing values, duplicates, and incorrect data types\n",
    "- Create new columns if needed\n",
    "- Filter, group, and sort data to prepare it for analysis"
   ]
  },
  {
   "cell_type": "code",
   "execution_count": 0,
   "metadata": {
    "application/vnd.databricks.v1+cell": {
     "cellMetadata": {
      "byteLimit": 2048000,
      "rowLimit": 10000
     },
     "inputWidgets": {},
     "nuid": "e620afd9-e0c1-45fe-b653-46e407e4daa2",
     "showTitle": false,
     "tableResultSettingsMap": {},
     "title": ""
    }
   },
   "outputs": [],
   "source": [
    "df = pd.read_csv(\"data/climate_change_dataset.csv\")\n",
    "df.head()"
   ]
  },
  {
   "cell_type": "code",
   "execution_count": 0,
   "metadata": {
    "application/vnd.databricks.v1+cell": {
     "cellMetadata": {
      "byteLimit": 2048000,
      "rowLimit": 10000
     },
     "inputWidgets": {},
     "nuid": "b01dc97b-834f-4777-a115-afb47a2ec8c9",
     "showTitle": false,
     "tableResultSettingsMap": {},
     "title": ""
    }
   },
   "outputs": [],
   "source": [
    "df.tail()"
   ]
  },
  {
   "cell_type": "code",
   "execution_count": 0,
   "metadata": {
    "application/vnd.databricks.v1+cell": {
     "cellMetadata": {
      "byteLimit": 2048000,
      "rowLimit": 10000
     },
     "inputWidgets": {},
     "nuid": "6495dd6b-20bf-40ba-8b0f-29803fa11472",
     "showTitle": false,
     "tableResultSettingsMap": {},
     "title": ""
    }
   },
   "outputs": [],
   "source": [
    "df.describe(include='all')\n"
   ]
  },
  {
   "cell_type": "code",
   "execution_count": 0,
   "metadata": {
    "application/vnd.databricks.v1+cell": {
     "cellMetadata": {
      "byteLimit": 2048000,
      "rowLimit": 10000
     },
     "inputWidgets": {},
     "nuid": "88bd4882-fddd-47ec-98d8-fc946f9c177e",
     "showTitle": false,
     "tableResultSettingsMap": {},
     "title": ""
    }
   },
   "outputs": [],
   "source": [
    "df.info()"
   ]
  },
  {
   "cell_type": "code",
   "execution_count": 0,
   "metadata": {
    "application/vnd.databricks.v1+cell": {
     "cellMetadata": {
      "byteLimit": 2048000,
      "rowLimit": 10000
     },
     "inputWidgets": {},
     "nuid": "c6994ed3-3d55-45c5-aed6-bf4316dd696a",
     "showTitle": false,
     "tableResultSettingsMap": {},
     "title": ""
    }
   },
   "outputs": [],
   "source": [
    "df.shape"
   ]
  },
  {
   "cell_type": "code",
   "execution_count": 0,
   "metadata": {
    "application/vnd.databricks.v1+cell": {
     "cellMetadata": {
      "byteLimit": 2048000,
      "rowLimit": 10000
     },
     "inputWidgets": {},
     "nuid": "b13a1191-f088-467a-9d8a-e1d0408a535d",
     "showTitle": false,
     "tableResultSettingsMap": {},
     "title": ""
    }
   },
   "outputs": [],
   "source": [
    "# no missing values\n",
    "missing_values = df.isnull().sum()\n",
    "print(missing_values[missing_values > 0])"
   ]
  },
  {
   "cell_type": "code",
   "execution_count": 0,
   "metadata": {
    "application/vnd.databricks.v1+cell": {
     "cellMetadata": {
      "byteLimit": 2048000,
      "rowLimit": 10000
     },
     "inputWidgets": {},
     "nuid": "12b76eeb-8ffe-4078-9f1e-91ec294828a3",
     "showTitle": false,
     "tableResultSettingsMap": {},
     "title": ""
    }
   },
   "outputs": [],
   "source": [
    "# no duplicate values\n",
    "duplicated_values = df.duplicated().sum()\n",
    "print(duplicated_values > 0)"
   ]
  },
  {
   "cell_type": "markdown",
   "metadata": {
    "application/vnd.databricks.v1+cell": {
     "cellMetadata": {
      "byteLimit": 2048000,
      "rowLimit": 10000
     },
     "inputWidgets": {},
     "nuid": "a77f6f92-810f-4b9c-bb7e-469cbccd2b51",
     "showTitle": false,
     "tableResultSettingsMap": {},
     "title": ""
    }
   },
   "source": [
    "Formatting columns"
   ]
  },
  {
   "cell_type": "code",
   "execution_count": 0,
   "metadata": {
    "application/vnd.databricks.v1+cell": {
     "cellMetadata": {
      "byteLimit": 2048000,
      "rowLimit": 10000
     },
     "inputWidgets": {},
     "nuid": "6d0d476b-88fb-43ae-85e5-77ec9846f6fb",
     "showTitle": false,
     "tableResultSettingsMap": {},
     "title": ""
    }
   },
   "outputs": [],
   "source": [
    "# Ensure that float data in dataset is formatted to \n",
    "# two decimal places, to preserve precision from original calculations\n",
    "# (in climate change studies, small differences can be meaningful when looking at long-term trends)\n",
    "pd.options.display.float_format = '{:.2f}'.format"
   ]
  },
  {
   "cell_type": "code",
   "execution_count": 0,
   "metadata": {
    "application/vnd.databricks.v1+cell": {
     "cellMetadata": {
      "byteLimit": 2048000,
      "rowLimit": 10000
     },
     "inputWidgets": {},
     "nuid": "8ea22d3d-d4a7-450c-8aa6-a0f03de4408c",
     "showTitle": false,
     "tableResultSettingsMap": {},
     "title": ""
    }
   },
   "outputs": [],
   "source": [
    "# `Year` has already been formatted correctly as int64\n",
    "# `Country` has already been formatted correctly as object\n",
    "# `Avg Temperature (°C)` has already been formatted correctly as float64, with two decimal places\n",
    "# added from command above replacing original only one decimal place\n",
    "df['Avg Temperature (°C)'].head(10)\n",
    "\n"
   ]
  },
  {
   "cell_type": "code",
   "execution_count": 0,
   "metadata": {
    "application/vnd.databricks.v1+cell": {
     "cellMetadata": {
      "byteLimit": 2048000,
      "rowLimit": 10000
     },
     "inputWidgets": {},
     "nuid": "e8305f40-ff6f-4fa1-b72c-056d178c22b4",
     "showTitle": false,
     "tableResultSettingsMap": {},
     "title": ""
    }
   },
   "outputs": [],
   "source": [
    "# `Sea Level Rise (mm)` has already been formatted correctly as float64, with two decimal places\n",
    "# added from command above replacing original only one decimal place\n",
    "df['Sea Level Rise (mm)'].head(10)\n"
   ]
  },
  {
   "cell_type": "code",
   "execution_count": 0,
   "metadata": {
    "application/vnd.databricks.v1+cell": {
     "cellMetadata": {
      "byteLimit": 2048000,
      "rowLimit": 10000
     },
     "inputWidgets": {},
     "nuid": "ead1e58f-d305-4ff5-be46-8a46b3c6553b",
     "showTitle": false,
     "tableResultSettingsMap": {},
     "title": ""
    }
   },
   "outputs": [],
   "source": [
    "# There is no decimal places in original data in column, so I have left this as int64\n",
    "df['Rainfall (mm)'].head(10)\n"
   ]
  },
  {
   "cell_type": "code",
   "execution_count": 0,
   "metadata": {
    "application/vnd.databricks.v1+cell": {
     "cellMetadata": {
      "byteLimit": 2048000,
      "rowLimit": 10000
     },
     "inputWidgets": {},
     "nuid": "6f56de1b-bc0b-4157-9a94-d3173fc132c2",
     "showTitle": false,
     "tableResultSettingsMap": {},
     "title": ""
    }
   },
   "outputs": [],
   "source": [
    "# population data contains errors and is not required for this project\n",
    "df.drop('Population', axis=1, inplace=True, errors='ignore')\n"
   ]
  },
  {
   "cell_type": "code",
   "execution_count": 0,
   "metadata": {
    "application/vnd.databricks.v1+cell": {
     "cellMetadata": {
      "byteLimit": 2048000,
      "rowLimit": 10000
     },
     "inputWidgets": {},
     "nuid": "f2292221-ed3c-4b74-a40a-563cb5bff8ff",
     "showTitle": false,
     "tableResultSettingsMap": {},
     "title": ""
    }
   },
   "outputs": [],
   "source": [
    "# There is no decimal places in original data in column, so I have left this as int64\n",
    "df['Extreme Weather Events'].head(10)\n"
   ]
  },
  {
   "cell_type": "code",
   "execution_count": 0,
   "metadata": {
    "application/vnd.databricks.v1+cell": {
     "cellMetadata": {
      "byteLimit": 2048000,
      "rowLimit": 10000
     },
     "inputWidgets": {},
     "nuid": "95496702-f097-4edc-90f9-7370da476172",
     "showTitle": false,
     "tableResultSettingsMap": {},
     "title": ""
    }
   },
   "outputs": [],
   "source": [
    "# `Forest Area (%)` has already been formatted correctly as float64, with two decimal places\n",
    "# added from command above replacing original only one decimal place\n",
    "df['Forest Area (%)'].head(10)"
   ]
  },
  {
   "cell_type": "code",
   "execution_count": 0,
   "metadata": {
    "application/vnd.databricks.v1+cell": {
     "cellMetadata": {
      "byteLimit": 2048000,
      "rowLimit": 10000
     },
     "inputWidgets": {},
     "nuid": "8f8529df-0cf6-407c-8169-b3044030a121",
     "showTitle": false,
     "tableResultSettingsMap": {},
     "title": ""
    }
   },
   "outputs": [],
   "source": [
    "# Column names\n",
    "# Standardized them to lowercase and with underscores, as well as removing \n",
    "# units like (°C), etc., as well as measurements such as 'm' via regex\n",
    "# These technical terms will still appear in data visualization and ML models\n",
    "df.columns = (\n",
    "    df.columns\n",
    "        .str.strip() # remove leading/trailing spaces\n",
    "        .str.lower() # convert to lowercase\n",
    "        .str.replace(r'\\s+', '_', regex=True) # adds underscores in spaces between column name words\n",
    "        .str.replace(r'\\(°c\\)', '', regex=True) # gets rid of °c\n",
    "        .str.replace(r'\\(%\\)', '', regex=True) # gets rid of %\n",
    "        .str.replace(r'\\(mm\\)', '', regex=True) # gets rid of 'mm'\n",
    "        .str.replace(r'\\((tons/capita)\\)', '', regex=True) # gets rid of 'tons/capita'\n",
    "        .str.replace(r'_+$', '', regex=True) # delete training underscores at end of column name\n",
    ")\n"
   ]
  },
  {
   "cell_type": "code",
   "execution_count": 0,
   "metadata": {
    "application/vnd.databricks.v1+cell": {
     "cellMetadata": {
      "byteLimit": 2048000,
      "rowLimit": 10000
     },
     "inputWidgets": {},
     "nuid": "194cb386-3824-4ecd-919f-f57dcfe945cd",
     "showTitle": false,
     "tableResultSettingsMap": {},
     "title": ""
    }
   },
   "outputs": [],
   "source": [
    "df.info()"
   ]
  },
  {
   "cell_type": "code",
   "execution_count": 0,
   "metadata": {
    "application/vnd.databricks.v1+cell": {
     "cellMetadata": {
      "byteLimit": 2048000,
      "rowLimit": 10000
     },
     "inputWidgets": {},
     "nuid": "344b7bf5-fbc0-45fa-8f76-5ca74dc22d6d",
     "showTitle": false,
     "tableResultSettingsMap": {},
     "title": ""
    }
   },
   "outputs": [],
   "source": [
    "#Reorder data by year (earliest first) and country (alphabetical)\n",
    "df_sorted = df.sort_values(['year', 'country'])\n",
    "df_sorted.head(10)\n"
   ]
  },
  {
   "cell_type": "code",
   "execution_count": 0,
   "metadata": {
    "application/vnd.databricks.v1+cell": {
     "cellMetadata": {
      "byteLimit": 2048000,
      "rowLimit": 10000
     },
     "inputWidgets": {},
     "nuid": "faf612cf-21bb-42a7-8141-b80eb524dfb3",
     "showTitle": false,
     "tableResultSettingsMap": {},
     "title": ""
    }
   },
   "outputs": [],
   "source": [
    "df_sorted.to_csv('data/cleaned_climate_change_data.csv', index=False)\n"
   ]
  },
  {
   "cell_type": "code",
   "execution_count": 0,
   "metadata": {
    "application/vnd.databricks.v1+cell": {
     "cellMetadata": {
      "byteLimit": 2048000,
      "rowLimit": 10000
     },
     "inputWidgets": {},
     "nuid": "1fc6a68d-9db2-4188-ab1f-f983907e503e",
     "showTitle": false,
     "tableResultSettingsMap": {},
     "title": ""
    }
   },
   "outputs": [],
   "source": [
    "df1 = pd.read_csv('data/cleaned_climate_change_data.csv')\n",
    "df1.head()"
   ]
  },
  {
   "cell_type": "code",
   "execution_count": 0,
   "metadata": {
    "application/vnd.databricks.v1+cell": {
     "cellMetadata": {
      "byteLimit": 2048000,
      "rowLimit": 10000
     },
     "inputWidgets": {},
     "nuid": "91a58f73-057f-4cb2-9832-14461310dcd4",
     "showTitle": false,
     "tableResultSettingsMap": {},
     "title": ""
    }
   },
   "outputs": [],
   "source": [
    "df1['year'].unique()"
   ]
  },
  {
   "cell_type": "markdown",
   "metadata": {
    "application/vnd.databricks.v1+cell": {
     "cellMetadata": {
      "byteLimit": 2048000,
      "rowLimit": 10000
     },
     "inputWidgets": {},
     "nuid": "03052e15-b4f8-40c5-b899-80fc3d85a601",
     "showTitle": false,
     "tableResultSettingsMap": {},
     "title": ""
    }
   },
   "source": [
    "4. **Data Visualization**\n"
   ]
  },
  {
   "cell_type": "markdown",
   "metadata": {
    "application/vnd.databricks.v1+cell": {
     "cellMetadata": {
      "byteLimit": 2048000,
      "rowLimit": 10000
     },
     "inputWidgets": {},
     "nuid": "93d8b865-2b5e-4486-a58e-f2dc204c0cab",
     "showTitle": false,
     "tableResultSettingsMap": {},
     "title": ""
    }
   },
   "source": [
    "Use Matplotlib (and optionally Seaborn) to create at least 5 meaningful plots that help answer your questions\n",
    "Each plot should have a clear title, axis labels, and legends if needed"
   ]
  },
  {
   "cell_type": "code",
   "execution_count": 0,
   "metadata": {
    "application/vnd.databricks.v1+cell": {
     "cellMetadata": {
      "byteLimit": 2048000,
      "rowLimit": 10000
     },
     "inputWidgets": {},
     "nuid": "cc93908c-9b7c-4cf9-94ef-8dd679747d45",
     "showTitle": false,
     "tableResultSettingsMap": {},
     "title": ""
    }
   },
   "outputs": [],
   "source": [
    "# Save combined countries' average temperatures for each year\n",
    "yearly_avgtemp_df = (\n",
    "    df1.groupby('year', as_index=False)['avg_temperature']\n",
    "       .mean()\n",
    ")\n",
    "\n",
    "print(yearly_avgtemp_df)"
   ]
  },
  {
   "cell_type": "code",
   "execution_count": 0,
   "metadata": {
    "application/vnd.databricks.v1+cell": {
     "cellMetadata": {
      "byteLimit": 2048000,
      "rowLimit": 10000
     },
     "inputWidgets": {},
     "nuid": "243b415e-8a6a-4303-aa14-073287c05693",
     "showTitle": false,
     "tableResultSettingsMap": {},
     "title": ""
    }
   },
   "outputs": [],
   "source": [
    "# Lineplot of Average Temperature Rise of Selected Countries (2000 -20024)\n",
    "plt.figure(figsize=(12, 6))\n",
    "sns.lineplot(data=yearly_avgtemp_df,\n",
    "            x='year',\n",
    "            y='avg_temperature',\n",
    "            marker='o')\n",
    "\n",
    "plt.title('Average Temperature Rise of Selected Countries (2000-2024)')\n",
    "plt.xlabel('Year')\n",
    "plt.ylabel('Average Temperature (°C)')\n",
    "\n",
    "plt.show()"
   ]
  },
  {
   "cell_type": "code",
   "execution_count": 0,
   "metadata": {
    "application/vnd.databricks.v1+cell": {
     "cellMetadata": {
      "byteLimit": 2048000,
      "rowLimit": 10000
     },
     "inputWidgets": {},
     "nuid": "07cf0718-2358-448a-864d-5057904bd702",
     "showTitle": false,
     "tableResultSettingsMap": {},
     "title": ""
    }
   },
   "outputs": [],
   "source": [
    "country_tempco2_avg = (\n",
    "    df1.groupby('country', as_index=False)[['avg_temperature', 'co2_emissions']].mean()\n",
    ")\n",
    "\n",
    "country_tempco2_avg.head(10)"
   ]
  },
  {
   "cell_type": "code",
   "execution_count": 0,
   "metadata": {
    "application/vnd.databricks.v1+cell": {
     "cellMetadata": {
      "byteLimit": 2048000,
      "rowLimit": 10000
     },
     "inputWidgets": {},
     "nuid": "f0da73a4-3359-4c07-a33c-2c47c6ccaa1f",
     "showTitle": false,
     "tableResultSettingsMap": {},
     "title": ""
    }
   },
   "outputs": [],
   "source": [
    "# Can rising global temperatures be correlated with rising CO₂ emissions per capita?\n",
    "\n",
    "plt.figure(figsize=(12, 6))\n",
    "\n",
    "#average temperature rises\n",
    "sns.lineplot(\n",
    "            x='year',\n",
    "            y='avg_temperature',\n",
    "            data=df,\n",
    "            label='Average Temperature (°C)'\n",
    ")\n",
    "\n",
    "sns.lineplot(\n",
    "            x='year',\n",
    "            y='co2_emissions',\n",
    "            data=df,\n",
    "            label='CO2 Emissions (Tons/Capita)'\n",
    ")\n",
    "\n",
    "plt.title('Climate Change Trends in Sample Countries (2000-2024)')\n",
    "plt.xlabel('Year', fontsize=12)\n",
    "plt.ylabel('Value', fontsize=12)\n",
    "plt.legend()\n",
    "\n",
    "plt.show()\n",
    "\n"
   ]
  },
  {
   "cell_type": "code",
   "execution_count": 0,
   "metadata": {
    "application/vnd.databricks.v1+cell": {
     "cellMetadata": {
      "byteLimit": 2048000,
      "rowLimit": 10000
     },
     "inputWidgets": {},
     "nuid": "d2b815d0-611f-4e4c-821c-b945dda09172",
     "showTitle": false,
     "tableResultSettingsMap": {},
     "title": ""
    }
   },
   "outputs": [],
   "source": [
    "# Scatterplot of Temperature vs CO₂ Emissions per Capita (2000–2024) by Country\n",
    "\n",
    "plt.figure(figsize=(12, 6))\n",
    "sns.scatterplot(data=country_tempco2_avg,\n",
    "                x='co2_emissions',\n",
    "                y='avg_temperature',\n",
    "                )\n",
    "\n",
    "for i, row in country_tempco2_avg.iterrows():\n",
    "    plt.text(row['co2_emissions'] + 0.1, \n",
    "             row['avg_temperature'],\n",
    "             row['country'],\n",
    "             fontsize=10\n",
    "            )\n",
    "\n",
    "plt.title('Temperature vs CO₂ Emissions per Capita (2000 - 2024) by Country')\n",
    "plt.xlabel('Average Temperature (°C)')\n",
    "plt.ylabel('CO₂ Emissions per Capita (Tons/Capita) by Country')\n",
    "plt.tight_layout()\n",
    "\n",
    "plt.show()\n",
    "\n"
   ]
  },
  {
   "cell_type": "code",
   "execution_count": 0,
   "metadata": {
    "application/vnd.databricks.v1+cell": {
     "cellMetadata": {
      "byteLimit": 2048000,
      "rowLimit": 10000
     },
     "inputWidgets": {},
     "nuid": "e76d63ff-17a7-4dbb-8eb7-91a96d242c6b",
     "showTitle": false,
     "tableResultSettingsMap": {},
     "title": ""
    }
   },
   "outputs": [],
   "source": [
    "# Regression plot showing slight rise in sea level\n",
    "yearly_sea_rise = (\n",
    "    df1.groupby('year', as_index=False)['sea_level_rise']\n",
    "       .mean()\n",
    ")\n",
    "\n",
    "plt.figure(figsize=(12, 6))\n",
    "\n",
    "sns.regplot(\n",
    "    data=yearly_sea_rise,\n",
    "    x='year',\n",
    "    y='sea_level_rise',\n",
    "    scatter_kws={'s': 60, 'alpha': 0.8, 'color': 'royalblue'},\n",
    "    line_kws={'linewidth': 2, 'color': 'darkred'},\n",
    "    ci=None\n",
    ")\n",
    "\n",
    "plt.title('Global Mean Sea Level Rise with Linear Trend')\n",
    "plt.xlabel('Year')\n",
    "plt.ylabel('Sea Level Rise (units)')\n",
    "plt.grid(True, axis='y', linestyle='--', alpha=0.6)\n",
    "plt.tight_layout()\n",
    "\n",
    "plt.show()\n"
   ]
  },
  {
   "cell_type": "code",
   "execution_count": 0,
   "metadata": {
    "application/vnd.databricks.v1+cell": {
     "cellMetadata": {},
     "inputWidgets": {},
     "nuid": "18c7690a-b0df-49d0-ac2c-e1d3d2593fdf",
     "showTitle": false,
     "tableResultSettingsMap": {},
     "title": ""
    }
   },
   "outputs": [],
   "source": [
    "# Have ex"
   ]
  }
 ],
 "metadata": {
  "application/vnd.databricks.v1+notebook": {
   "computePreferences": null,
   "dashboards": [],
   "environmentMetadata": {
    "base_environment": "",
    "environment_version": "2"
   },
   "inputWidgetPreferences": null,
   "language": "python",
   "notebookMetadata": {
    "pythonIndentUnit": 4
   },
   "notebookName": "climate_change_ml_hackathon_dsimpson",
   "widgets": {}
  },
  "language_info": {
   "name": "python"
  }
 },
 "nbformat": 4,
 "nbformat_minor": 0
}
